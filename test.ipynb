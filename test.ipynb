{
 "cells": [
  {
   "cell_type": "code",
   "execution_count": null,
   "id": "6621c0c3",
   "metadata": {},
   "outputs": [],
   "source": [
    "a = 10\n",
    "b = 20"
   ]
  },
  {
   "cell_type": "code",
   "execution_count": null,
   "id": "e8de8a83",
   "metadata": {},
   "outputs": [],
   "source": [
    "d = a + b\n",
    "d"
   ]
  },
  {
   "cell_type": "code",
   "execution_count": null,
   "id": "a85e5a30",
   "metadata": {},
   "outputs": [],
   "source": [
    "import pandas as pd\n",
    "\n",
    "import matplotlib.pyplot as plt\n",
    "\n",
    "# Create a pandas Series from the variables\n",
    "data = pd.Series([a, b, d], index=['a', 'b', 'd'])\n",
    "\n",
    "# Plot pie chart\n",
    "data.plot.pie(autopct='%1.1f%%')\n",
    "plt.ylabel('')\n",
    "plt.show()"
   ]
  },
  {
   "cell_type": "code",
   "execution_count": null,
   "id": "964e7460",
   "metadata": {},
   "outputs": [],
   "source": [
    "data.plot.bar()\n",
    "plt.ylabel('Value')\n",
    "plt.title('Column Chart of Variables')\n",
    "plt.show()+"
   ]
  },
  {
   "cell_type": "code",
   "execution_count": null,
   "id": "46952ccd",
   "metadata": {},
   "outputs": [],
   "source": [
    "# You can run this in a Jupyter Notebook cell\n",
    "\n",
    "import ipywidgets as widgets\n",
    "from IPython.display import display\n",
    "\n",
    "# Create widgets\n",
    "name = widgets.Text(description=\"Name:\")\n",
    "age = widgets.IntText(description=\"Age:\")\n",
    "email = widgets.Text(description=\"Email:\")\n",
    "submit = widgets.Button(description=\"Submit\")\n",
    "\n",
    "# Define what happens on submit\n",
    "def on_submit_clicked(b):\n",
    "    print(f\"Name: {name.value}\")\n",
    "    print(f\"Age: {age.value}\")\n",
    "    print(f\"Email: {email.value}\")\n",
    "\n",
    "submit.on_click(on_submit_clicked)\n",
    "\n",
    "# Display the form\n",
    "form = widgets.VBox([name, age, email, submit])\n",
    "form"
   ]
  },
  {
   "cell_type": "code",
   "execution_count": null,
   "id": "55a0b434",
   "metadata": {},
   "outputs": [],
   "source": [
    "import ipyvuetify as v\n",
    "from IPython.display import display\n",
    "\n",
    "# Create input fields\n",
    "name = v.TextField(label='Name')\n",
    "age = v.TextField(label='Age', type='number')\n",
    "email = v.TextField(label='Email')\n",
    "\n",
    "# Create a button\n",
    "submit_btn = v.Btn(children=['Submit'], color='primary')\n",
    "\n",
    "# Output area\n",
    "output = v.Html(tag='div')\n",
    "\n",
    "# Define the submit action\n",
    "def on_submit(widget, event, data):\n",
    "    output.children = [\n",
    "        f\"<b>Name:</b> {name.v_model}<br>\",\n",
    "        f\"<b>Age:</b> {age.v_model}<br>\",\n",
    "        f\"<b>Email:</b> {email.v_model}\"\n",
    "    ]\n",
    "\n",
    "submit_btn.on_event('click', on_submit)\n",
    "\n",
    "# Arrange the form\n",
    "form = v.Container(children=[\n",
    "    name,\n",
    "    age,\n",
    "    email,\n",
    "    submit_btn,\n",
    "    output\n",
    "])\n",
    "\n",
    "display(form)"
   ]
  },
  {
   "cell_type": "code",
   "execution_count": 1,
   "id": "0bb629c3",
   "metadata": {},
   "outputs": [
    {
     "name": "stdout",
     "output_type": "stream",
     "text": [
      "Secret number (for testing): 93\n"
     ]
    },
    {
     "data": {
      "application/vnd.jupyter.widget-view+json": {
       "model_id": "debbdde0912c4fcba9fa0b947893f95d",
       "version_major": 2,
       "version_minor": 0
      },
      "text/plain": [
       "Container(children=[Html(children=['Guess a number between 1 and 100'], layout=None, tag='div'), TextField(lab…"
      ]
     },
     "metadata": {},
     "output_type": "display_data"
    }
   ],
   "source": [
    "import random\n",
    "import ipyvuetify as v\n",
    "from IPython.display import display\n",
    "\n",
    "# Generate a random number between 1 and 100\n",
    "secret_number = random.randint(1, 100)\n",
    "print(f\"Secret number (for testing): {secret_number}\")\n",
    "\n",
    "# Store the guess value\n",
    "guess_value = {'value': ''}\n",
    "\n",
    "# Widgets\n",
    "instructions = v.Html(tag='div', children=[\"Guess a number between 1 and 100\"])\n",
    "guess_input = v.TextField(label='Your Guess', type='number')\n",
    "submit_btn = v.Btn(children=['Guess'], color='primary')\n",
    "result = v.Html(tag='div', children=[\"\"])\n",
    "\n",
    "# Update guess_value on input\n",
    "def on_input(widget, event, data):\n",
    "    guess_value['value'] = data\n",
    "\n",
    "guess_input.on_event('input', on_input)\n",
    "\n",
    "# Game logic\n",
    "def on_guess(widget, event, data):\n",
    "    try:\n",
    "        guess = int(guess_value['value'])\n",
    "    except (TypeError, ValueError):\n",
    "        result.children = [\"Please enter a valid number.\"]\n",
    "        return\n",
    "    if guess < secret_number:\n",
    "        result.children = [\"Too low! Try again.\"]\n",
    "    elif guess > secret_number:\n",
    "        result.children = [\"Too high! Try again.\"]\n",
    "    else:\n",
    "        result.children = [f\"🎉 Correct! The number was {secret_number}\"]\n",
    "\n",
    "submit_btn.on_event('click', on_guess)\n",
    "\n",
    "# Layout\n",
    "game = v.Container(children=[\n",
    "    instructions,\n",
    "    guess_input,\n",
    "    submit_btn,\n",
    "    result\n",
    "])\n",
    "\n",
    "display(game)"
   ]
  },
  {
   "cell_type": "code",
   "execution_count": null,
   "id": "3dc98b43",
   "metadata": {},
   "outputs": [],
   "source": []
  }
 ],
 "metadata": {
  "kernelspec": {
   "display_name": ".venv",
   "language": "python",
   "name": "python3"
  },
  "language_info": {
   "codemirror_mode": {
    "name": "ipython",
    "version": 3
   },
   "file_extension": ".py",
   "mimetype": "text/x-python",
   "name": "python",
   "nbconvert_exporter": "python",
   "pygments_lexer": "ipython3",
   "version": "3.12.3"
  }
 },
 "nbformat": 4,
 "nbformat_minor": 5
}
